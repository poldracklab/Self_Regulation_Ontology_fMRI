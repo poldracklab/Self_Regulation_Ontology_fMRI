{
 "cells": [
  {
   "cell_type": "code",
   "execution_count": 1,
   "metadata": {},
   "outputs": [],
   "source": [
    "import pandas as pd\n",
    "from glob import glob\n",
    "from os import path\n",
    "import numpy as np"
   ]
  },
  {
   "cell_type": "markdown",
   "metadata": {},
   "source": [
    "### demo data from demo_survey"
   ]
  },
  {
   "cell_type": "code",
   "execution_count": 2,
   "metadata": {},
   "outputs": [],
   "source": [
    "old_demo_df = pd.read_csv('aim1_demographics.csv', index_col='index')"
   ]
  },
  {
   "cell_type": "code",
   "execution_count": 3,
   "metadata": {
    "scrolled": true
   },
   "outputs": [
    {
     "data": {
      "text/html": [
       "<div>\n",
       "<style scoped>\n",
       "    .dataframe tbody tr th:only-of-type {\n",
       "        vertical-align: middle;\n",
       "    }\n",
       "\n",
       "    .dataframe tbody tr th {\n",
       "        vertical-align: top;\n",
       "    }\n",
       "\n",
       "    .dataframe thead th {\n",
       "        text-align: right;\n",
       "    }\n",
       "</style>\n",
       "<table border=\"1\" class=\"dataframe\">\n",
       "  <thead>\n",
       "    <tr style=\"text-align: right;\">\n",
       "      <th></th>\n",
       "      <th>age</th>\n",
       "      <th>sex</th>\n",
       "    </tr>\n",
       "    <tr>\n",
       "      <th>index</th>\n",
       "      <th></th>\n",
       "      <th></th>\n",
       "    </tr>\n",
       "  </thead>\n",
       "  <tbody>\n",
       "    <tr>\n",
       "      <th>s130</th>\n",
       "      <td>29</td>\n",
       "      <td>Female</td>\n",
       "    </tr>\n",
       "    <tr>\n",
       "      <th>s192</th>\n",
       "      <td>19</td>\n",
       "      <td>Female</td>\n",
       "    </tr>\n",
       "    <tr>\n",
       "      <th>s251</th>\n",
       "      <td>19</td>\n",
       "      <td>Female</td>\n",
       "    </tr>\n",
       "    <tr>\n",
       "      <th>s358</th>\n",
       "      <td>26</td>\n",
       "      <td>Female</td>\n",
       "    </tr>\n",
       "    <tr>\n",
       "      <th>s373</th>\n",
       "      <td>32</td>\n",
       "      <td>Female</td>\n",
       "    </tr>\n",
       "    <tr>\n",
       "      <th>...</th>\n",
       "      <td>...</td>\n",
       "      <td>...</td>\n",
       "    </tr>\n",
       "    <tr>\n",
       "      <th>s646</th>\n",
       "      <td>22</td>\n",
       "      <td>Male</td>\n",
       "    </tr>\n",
       "    <tr>\n",
       "      <th>s647</th>\n",
       "      <td>24</td>\n",
       "      <td>Female</td>\n",
       "    </tr>\n",
       "    <tr>\n",
       "      <th>s648</th>\n",
       "      <td>30</td>\n",
       "      <td>Female</td>\n",
       "    </tr>\n",
       "    <tr>\n",
       "      <th>s649</th>\n",
       "      <td>22</td>\n",
       "      <td>Female</td>\n",
       "    </tr>\n",
       "    <tr>\n",
       "      <th>s650</th>\n",
       "      <td>41</td>\n",
       "      <td>Male</td>\n",
       "    </tr>\n",
       "  </tbody>\n",
       "</table>\n",
       "<p>97 rows × 2 columns</p>\n",
       "</div>"
      ],
      "text/plain": [
       "       age     sex\n",
       "index             \n",
       "s130    29  Female\n",
       "s192    19  Female\n",
       "s251    19  Female\n",
       "s358    26  Female\n",
       "s373    32  Female\n",
       "...    ...     ...\n",
       "s646    22    Male\n",
       "s647    24  Female\n",
       "s648    30  Female\n",
       "s649    22  Female\n",
       "s650    41    Male\n",
       "\n",
       "[97 rows x 2 columns]"
      ]
     },
     "execution_count": 3,
     "metadata": {},
     "output_type": "execute_result"
    }
   ],
   "source": [
    "old_demo_df"
   ]
  },
  {
   "cell_type": "markdown",
   "metadata": {},
   "source": [
    "### demo data from redcap"
   ]
  },
  {
   "cell_type": "code",
   "execution_count": 4,
   "metadata": {},
   "outputs": [],
   "source": [
    "redcap_demo_df = pd.read_csv('aim1_redcap_demographics_report.csv', index_col='record_id')"
   ]
  },
  {
   "cell_type": "code",
   "execution_count": 5,
   "metadata": {
    "scrolled": true
   },
   "outputs": [
    {
     "data": {
      "text/html": [
       "<div>\n",
       "<style scoped>\n",
       "    .dataframe tbody tr th:only-of-type {\n",
       "        vertical-align: middle;\n",
       "    }\n",
       "\n",
       "    .dataframe tbody tr th {\n",
       "        vertical-align: top;\n",
       "    }\n",
       "\n",
       "    .dataframe thead th {\n",
       "        text-align: right;\n",
       "    }\n",
       "</style>\n",
       "<table border=\"1\" class=\"dataframe\">\n",
       "  <thead>\n",
       "    <tr style=\"text-align: right;\">\n",
       "      <th></th>\n",
       "      <th>age</th>\n",
       "      <th>sex</th>\n",
       "      <th>ethnicity</th>\n",
       "      <th>race</th>\n",
       "    </tr>\n",
       "    <tr>\n",
       "      <th>record_id</th>\n",
       "      <th></th>\n",
       "      <th></th>\n",
       "      <th></th>\n",
       "      <th></th>\n",
       "    </tr>\n",
       "  </thead>\n",
       "  <tbody>\n",
       "    <tr>\n",
       "      <th>1</th>\n",
       "      <td>27.0</td>\n",
       "      <td>0.0</td>\n",
       "      <td>1.0</td>\n",
       "      <td>4.0</td>\n",
       "    </tr>\n",
       "    <tr>\n",
       "      <th>2</th>\n",
       "      <td>19.0</td>\n",
       "      <td>1.0</td>\n",
       "      <td>1.0</td>\n",
       "      <td>4.0</td>\n",
       "    </tr>\n",
       "    <tr>\n",
       "      <th>3</th>\n",
       "      <td>20.0</td>\n",
       "      <td>0.0</td>\n",
       "      <td>1.0</td>\n",
       "      <td>1.0</td>\n",
       "    </tr>\n",
       "    <tr>\n",
       "      <th>4</th>\n",
       "      <td>21.0</td>\n",
       "      <td>0.0</td>\n",
       "      <td>1.0</td>\n",
       "      <td>1.0</td>\n",
       "    </tr>\n",
       "    <tr>\n",
       "      <th>5</th>\n",
       "      <td>22.0</td>\n",
       "      <td>0.0</td>\n",
       "      <td>1.0</td>\n",
       "      <td>1.0</td>\n",
       "    </tr>\n",
       "    <tr>\n",
       "      <th>...</th>\n",
       "      <td>...</td>\n",
       "      <td>...</td>\n",
       "      <td>...</td>\n",
       "      <td>...</td>\n",
       "    </tr>\n",
       "    <tr>\n",
       "      <th>755</th>\n",
       "      <td>30.0</td>\n",
       "      <td>0.0</td>\n",
       "      <td>1.0</td>\n",
       "      <td>4.0</td>\n",
       "    </tr>\n",
       "    <tr>\n",
       "      <th>756</th>\n",
       "      <td>20.0</td>\n",
       "      <td>0.0</td>\n",
       "      <td>1.0</td>\n",
       "      <td>4.0</td>\n",
       "    </tr>\n",
       "    <tr>\n",
       "      <th>757</th>\n",
       "      <td>19.0</td>\n",
       "      <td>0.0</td>\n",
       "      <td>0.0</td>\n",
       "      <td>4.0</td>\n",
       "    </tr>\n",
       "    <tr>\n",
       "      <th>758</th>\n",
       "      <td>30.0</td>\n",
       "      <td>NaN</td>\n",
       "      <td>NaN</td>\n",
       "      <td>NaN</td>\n",
       "    </tr>\n",
       "    <tr>\n",
       "      <th>759</th>\n",
       "      <td>41.0</td>\n",
       "      <td>1.0</td>\n",
       "      <td>1.0</td>\n",
       "      <td>4.0</td>\n",
       "    </tr>\n",
       "  </tbody>\n",
       "</table>\n",
       "<p>758 rows × 4 columns</p>\n",
       "</div>"
      ],
      "text/plain": [
       "            age  sex  ethnicity  race\n",
       "record_id                            \n",
       "1          27.0  0.0        1.0   4.0\n",
       "2          19.0  1.0        1.0   4.0\n",
       "3          20.0  0.0        1.0   1.0\n",
       "4          21.0  0.0        1.0   1.0\n",
       "5          22.0  0.0        1.0   1.0\n",
       "...         ...  ...        ...   ...\n",
       "755        30.0  0.0        1.0   4.0\n",
       "756        20.0  0.0        1.0   4.0\n",
       "757        19.0  0.0        0.0   4.0\n",
       "758        30.0  NaN        NaN   NaN\n",
       "759        41.0  1.0        1.0   4.0\n",
       "\n",
       "[758 rows x 4 columns]"
      ]
     },
     "execution_count": 5,
     "metadata": {},
     "output_type": "execute_result"
    }
   ],
   "source": [
    "redcap_demo_df"
   ]
  },
  {
   "cell_type": "markdown",
   "metadata": {},
   "source": [
    "### framewise displacement data - reveals some missing subjects drom the old_demo_df"
   ]
  },
  {
   "cell_type": "code",
   "execution_count": 6,
   "metadata": {},
   "outputs": [],
   "source": [
    "fd_df = pd.read_csv('aim1_fd_stats.tsv', delimiter='\\t')"
   ]
  },
  {
   "cell_type": "code",
   "execution_count": 7,
   "metadata": {},
   "outputs": [],
   "source": [
    "fd_df = fd_df.rename(columns={\"Unnamed: 0\": \"index\", \"Unnamed: 1\": \"task\"})\n",
    "fd_df['index'] = fd_df['index'].map(lambda subj: subj.split('-')[-1])\n",
    "fd_df = fd_df.set_index('index')"
   ]
  },
  {
   "cell_type": "code",
   "execution_count": 8,
   "metadata": {
    "scrolled": true
   },
   "outputs": [
    {
     "data": {
      "text/html": [
       "<div>\n",
       "<style scoped>\n",
       "    .dataframe tbody tr th:only-of-type {\n",
       "        vertical-align: middle;\n",
       "    }\n",
       "\n",
       "    .dataframe tbody tr th {\n",
       "        vertical-align: top;\n",
       "    }\n",
       "\n",
       "    .dataframe thead th {\n",
       "        text-align: right;\n",
       "    }\n",
       "</style>\n",
       "<table border=\"1\" class=\"dataframe\">\n",
       "  <thead>\n",
       "    <tr style=\"text-align: right;\">\n",
       "      <th></th>\n",
       "      <th>task</th>\n",
       "      <th>fd_mean</th>\n",
       "      <th>fd_num</th>\n",
       "      <th>fd_perc</th>\n",
       "    </tr>\n",
       "    <tr>\n",
       "      <th>index</th>\n",
       "      <th></th>\n",
       "      <th></th>\n",
       "      <th></th>\n",
       "      <th></th>\n",
       "    </tr>\n",
       "  </thead>\n",
       "  <tbody>\n",
       "    <tr>\n",
       "      <th>s061</th>\n",
       "      <td>CCTHot</td>\n",
       "      <td>0.137224</td>\n",
       "      <td>135</td>\n",
       "      <td>15.715949</td>\n",
       "    </tr>\n",
       "    <tr>\n",
       "      <th>s061</th>\n",
       "      <td>WATT3</td>\n",
       "      <td>0.151611</td>\n",
       "      <td>137</td>\n",
       "      <td>17.430025</td>\n",
       "    </tr>\n",
       "    <tr>\n",
       "      <th>s061</th>\n",
       "      <td>stopSignal</td>\n",
       "      <td>0.125783</td>\n",
       "      <td>44</td>\n",
       "      <td>8.396947</td>\n",
       "    </tr>\n",
       "    <tr>\n",
       "      <th>s061</th>\n",
       "      <td>twoByTwo</td>\n",
       "      <td>0.124104</td>\n",
       "      <td>73</td>\n",
       "      <td>7.087379</td>\n",
       "    </tr>\n",
       "    <tr>\n",
       "      <th>s061</th>\n",
       "      <td>DPX</td>\n",
       "      <td>0.108978</td>\n",
       "      <td>58</td>\n",
       "      <td>5.301645</td>\n",
       "    </tr>\n",
       "    <tr>\n",
       "      <th>...</th>\n",
       "      <td>...</td>\n",
       "      <td>...</td>\n",
       "      <td>...</td>\n",
       "      <td>...</td>\n",
       "    </tr>\n",
       "    <tr>\n",
       "      <th>s650</th>\n",
       "      <td>rest</td>\n",
       "      <td>0.253770</td>\n",
       "      <td>332</td>\n",
       "      <td>47.025496</td>\n",
       "    </tr>\n",
       "    <tr>\n",
       "      <th>s650</th>\n",
       "      <td>stroop</td>\n",
       "      <td>0.231252</td>\n",
       "      <td>51</td>\n",
       "      <td>15.044248</td>\n",
       "    </tr>\n",
       "    <tr>\n",
       "      <th>s650</th>\n",
       "      <td>surveyMedley</td>\n",
       "      <td>0.189059</td>\n",
       "      <td>209</td>\n",
       "      <td>34.775374</td>\n",
       "    </tr>\n",
       "    <tr>\n",
       "      <th>s650</th>\n",
       "      <td>CCTHot</td>\n",
       "      <td>0.200641</td>\n",
       "      <td>432</td>\n",
       "      <td>40.563380</td>\n",
       "    </tr>\n",
       "    <tr>\n",
       "      <th>s650</th>\n",
       "      <td>stopSignal</td>\n",
       "      <td>0.149828</td>\n",
       "      <td>96</td>\n",
       "      <td>18.640777</td>\n",
       "    </tr>\n",
       "  </tbody>\n",
       "</table>\n",
       "<p>1117 rows × 4 columns</p>\n",
       "</div>"
      ],
      "text/plain": [
       "               task   fd_mean  fd_num    fd_perc\n",
       "index                                           \n",
       "s061         CCTHot  0.137224     135  15.715949\n",
       "s061          WATT3  0.151611     137  17.430025\n",
       "s061     stopSignal  0.125783      44   8.396947\n",
       "s061       twoByTwo  0.124104      73   7.087379\n",
       "s061            DPX  0.108978      58   5.301645\n",
       "...             ...       ...     ...        ...\n",
       "s650           rest  0.253770     332  47.025496\n",
       "s650         stroop  0.231252      51  15.044248\n",
       "s650   surveyMedley  0.189059     209  34.775374\n",
       "s650         CCTHot  0.200641     432  40.563380\n",
       "s650     stopSignal  0.149828      96  18.640777\n",
       "\n",
       "[1117 rows x 4 columns]"
      ]
     },
     "execution_count": 8,
     "metadata": {},
     "output_type": "execute_result"
    }
   ],
   "source": [
    "fd_df"
   ]
  },
  {
   "cell_type": "markdown",
   "metadata": {},
   "source": [
    "#### get all the subjects from the fd_df"
   ]
  },
  {
   "cell_type": "code",
   "execution_count": 9,
   "metadata": {},
   "outputs": [
    {
     "data": {
      "text/plain": [
       "Index(['061', '130', '144', '172', '192', '234', '251', '358', '373', '445',\n",
       "       ...\n",
       "       '641', '642', '643', '644', '645', '646', '647', '648', '649', '650'],\n",
       "      dtype='object', name='index', length=108)"
      ]
     },
     "execution_count": 9,
     "metadata": {},
     "output_type": "execute_result"
    }
   ],
   "source": [
    "simple_ids = fd_df.index.unique().map(lambda subj: subj.strip('s'))\n",
    "simple_ids"
   ]
  },
  {
   "cell_type": "code",
   "execution_count": 10,
   "metadata": {},
   "outputs": [],
   "source": [
    "redcap_fmri_df = redcap_demo_df[redcap_demo_df.index.isin(simple_ids)]"
   ]
  },
  {
   "cell_type": "markdown",
   "metadata": {},
   "source": [
    "#### get subjects that completed the fmri demo survey"
   ]
  },
  {
   "cell_type": "code",
   "execution_count": 11,
   "metadata": {},
   "outputs": [],
   "source": [
    "limited_ids = old_demo_df.index.unique().map(lambda subj: subj.strip('s'))\n"
   ]
  },
  {
   "cell_type": "code",
   "execution_count": 12,
   "metadata": {},
   "outputs": [],
   "source": [
    "redcap_fmri_limited_df = redcap_fmri_df[redcap_fmri_df.index.isin(limited_ids)]\n",
    "\n"
   ]
  },
  {
   "cell_type": "markdown",
   "metadata": {},
   "source": [
    "change dataframe's indexing to match the others"
   ]
  },
  {
   "cell_type": "code",
   "execution_count": 13,
   "metadata": {},
   "outputs": [],
   "source": [
    "redcap_fmri_limited_df.insert(0, 'index', old_demo_df.index)\n",
    "redcap_fmri_limited_df = redcap_fmri_limited_df.set_index('index')"
   ]
  },
  {
   "cell_type": "markdown",
   "metadata": {},
   "source": [
    "## get the differences!"
   ]
  },
  {
   "cell_type": "code",
   "execution_count": 14,
   "metadata": {},
   "outputs": [],
   "source": [
    "age_diffs =  old_demo_df.age.map(lambda x: float(x)) - redcap_fmri_limited_df.age\n",
    "\n"
   ]
  },
  {
   "cell_type": "code",
   "execution_count": 15,
   "metadata": {},
   "outputs": [],
   "source": [
    "pd.set_option('display.max_rows', None)"
   ]
  },
  {
   "cell_type": "markdown",
   "metadata": {},
   "source": [
    "### Age"
   ]
  },
  {
   "cell_type": "code",
   "execution_count": 16,
   "metadata": {
    "scrolled": true
   },
   "outputs": [
    {
     "data": {
      "text/plain": [
       "index\n",
       "s130    2.0\n",
       "s192    1.0\n",
       "s251    1.0\n",
       "s358    1.0\n",
       "s373    1.0\n",
       "s596    1.0\n",
       "s613   -1.0\n",
       "s650   -4.0\n",
       "Name: age, dtype: float64"
      ]
     },
     "execution_count": 16,
     "metadata": {},
     "output_type": "execute_result"
    }
   ],
   "source": [
    "age_diffs[age_diffs!=0]"
   ]
  },
  {
   "cell_type": "markdown",
   "metadata": {},
   "source": [
    "### Sex"
   ]
  },
  {
   "cell_type": "code",
   "execution_count": 17,
   "metadata": {},
   "outputs": [],
   "source": [
    "old_demo_df.loc[(old_demo_df.sex == 'Female'),'sex']=0\n",
    "old_demo_df.loc[(old_demo_df.sex == 'Male'),'sex']=1"
   ]
  },
  {
   "cell_type": "code",
   "execution_count": 18,
   "metadata": {},
   "outputs": [],
   "source": [
    "sex_diffs =  old_demo_df.sex - redcap_fmri_limited_df.sex"
   ]
  },
  {
   "cell_type": "code",
   "execution_count": 19,
   "metadata": {},
   "outputs": [
    {
     "data": {
      "text/plain": [
       "index\n",
       "s624   NaN\n",
       "Name: sex, dtype: float64"
      ]
     },
     "execution_count": 19,
     "metadata": {},
     "output_type": "execute_result"
    }
   ],
   "source": [
    "sex_diffs[sex_diffs!=0]"
   ]
  },
  {
   "cell_type": "markdown",
   "metadata": {},
   "source": [
    "### investigate s624"
   ]
  },
  {
   "cell_type": "code",
   "execution_count": 20,
   "metadata": {},
   "outputs": [
    {
     "data": {
      "text/plain": [
       "age    21\n",
       "sex     1\n",
       "Name: s624, dtype: int64"
      ]
     },
     "execution_count": 20,
     "metadata": {},
     "output_type": "execute_result"
    }
   ],
   "source": [
    "old_demo_df.loc['s624',:]"
   ]
  },
  {
   "cell_type": "code",
   "execution_count": 21,
   "metadata": {},
   "outputs": [
    {
     "data": {
      "text/plain": [
       "age          21.0\n",
       "sex           NaN\n",
       "ethnicity     1.0\n",
       "race          4.0\n",
       "Name: s624, dtype: float64"
      ]
     },
     "execution_count": 21,
     "metadata": {},
     "output_type": "execute_result"
    }
   ],
   "source": [
    "redcap_fmri_limited_df.loc['s624',:]"
   ]
  },
  {
   "cell_type": "markdown",
   "metadata": {},
   "source": [
    "# Build 2ndlevel design matrix"
   ]
  },
  {
   "cell_type": "code",
   "execution_count": 22,
   "metadata": {},
   "outputs": [],
   "source": [
    "redcap_fmri_df\n",
    "\n",
    "redcap_fmri_df.insert(0, 'index', fd_df.index.unique())\n",
    "redcap_fmri_df = redcap_fmri_df.set_index('index')"
   ]
  },
  {
   "cell_type": "code",
   "execution_count": 23,
   "metadata": {},
   "outputs": [],
   "source": [
    "# pivot to get mean FD per task\n",
    "fd_pivot = pd.pivot_table(fd_df.reset_index(), values='fd_mean', index=['index'], columns='task')\n",
    "fd_pivot.columns = [col+'_meanFD' for col in fd_pivot.columns]"
   ]
  },
  {
   "cell_type": "code",
   "execution_count": 24,
   "metadata": {},
   "outputs": [],
   "source": [
    "# combine with demo data, add s624 sex\n",
    "out_df = pd.concat([redcap_fmri_df, fd_pivot], 1)\n",
    "out_df.loc['s624', 'sex'] = old_demo_df.loc['s624','sex']\n",
    "\n",
    "out_df = out_df.drop(['ethnicity', 'race'], axis=1)"
   ]
  },
  {
   "cell_type": "code",
   "execution_count": 25,
   "metadata": {},
   "outputs": [],
   "source": [
    "out_df.to_csv('aim1_2ndlevel_confounds_matrix.csv')"
   ]
  },
  {
   "cell_type": "code",
   "execution_count": 28,
   "metadata": {},
   "outputs": [
    {
     "data": {
      "text/html": [
       "<div>\n",
       "<style scoped>\n",
       "    .dataframe tbody tr th:only-of-type {\n",
       "        vertical-align: middle;\n",
       "    }\n",
       "\n",
       "    .dataframe tbody tr th {\n",
       "        vertical-align: top;\n",
       "    }\n",
       "\n",
       "    .dataframe thead th {\n",
       "        text-align: right;\n",
       "    }\n",
       "</style>\n",
       "<table border=\"1\" class=\"dataframe\">\n",
       "  <thead>\n",
       "    <tr style=\"text-align: right;\">\n",
       "      <th></th>\n",
       "      <th>age</th>\n",
       "      <th>sex</th>\n",
       "      <th>ANT_meanFD</th>\n",
       "      <th>CCTHot_meanFD</th>\n",
       "      <th>DPX_meanFD</th>\n",
       "      <th>WATT3_meanFD</th>\n",
       "      <th>discountFix_meanFD</th>\n",
       "      <th>motorSelectiveStop_meanFD</th>\n",
       "      <th>rest_meanFD</th>\n",
       "      <th>stopSignal_meanFD</th>\n",
       "      <th>stroop_meanFD</th>\n",
       "      <th>surveyMedley_meanFD</th>\n",
       "      <th>twoByTwo_meanFD</th>\n",
       "    </tr>\n",
       "    <tr>\n",
       "      <th>index</th>\n",
       "      <th></th>\n",
       "      <th></th>\n",
       "      <th></th>\n",
       "      <th></th>\n",
       "      <th></th>\n",
       "      <th></th>\n",
       "      <th></th>\n",
       "      <th></th>\n",
       "      <th></th>\n",
       "      <th></th>\n",
       "      <th></th>\n",
       "      <th></th>\n",
       "      <th></th>\n",
       "    </tr>\n",
       "  </thead>\n",
       "  <tbody>\n",
       "    <tr>\n",
       "      <th>s130</th>\n",
       "      <td>27.0</td>\n",
       "      <td>0.0</td>\n",
       "      <td>0.041484</td>\n",
       "      <td>0.031070</td>\n",
       "      <td>0.044276</td>\n",
       "      <td>0.045655</td>\n",
       "      <td>0.036948</td>\n",
       "      <td>0.03694</td>\n",
       "      <td>0.039885</td>\n",
       "      <td>0.031040</td>\n",
       "      <td>0.038328</td>\n",
       "      <td>0.030956</td>\n",
       "      <td>0.038415</td>\n",
       "    </tr>\n",
       "    <tr>\n",
       "      <th>s061</th>\n",
       "      <td>41.0</td>\n",
       "      <td>1.0</td>\n",
       "      <td>NaN</td>\n",
       "      <td>0.137224</td>\n",
       "      <td>0.108978</td>\n",
       "      <td>0.151611</td>\n",
       "      <td>0.134908</td>\n",
       "      <td>NaN</td>\n",
       "      <td>0.119460</td>\n",
       "      <td>0.125783</td>\n",
       "      <td>0.104488</td>\n",
       "      <td>0.138526</td>\n",
       "      <td>0.124104</td>\n",
       "    </tr>\n",
       "  </tbody>\n",
       "</table>\n",
       "</div>"
      ],
      "text/plain": [
       "        age  sex  ANT_meanFD  CCTHot_meanFD  DPX_meanFD  WATT3_meanFD  \\\n",
       "index                                                                   \n",
       "s130   27.0  0.0    0.041484       0.031070    0.044276      0.045655   \n",
       "s061   41.0  1.0         NaN       0.137224    0.108978      0.151611   \n",
       "\n",
       "       discountFix_meanFD  motorSelectiveStop_meanFD  rest_meanFD  \\\n",
       "index                                                               \n",
       "s130             0.036948                    0.03694     0.039885   \n",
       "s061             0.134908                        NaN     0.119460   \n",
       "\n",
       "       stopSignal_meanFD  stroop_meanFD  surveyMedley_meanFD  twoByTwo_meanFD  \n",
       "index                                                                          \n",
       "s130            0.031040       0.038328             0.030956         0.038415  \n",
       "s061            0.125783       0.104488             0.138526         0.124104  "
      ]
     },
     "execution_count": 28,
     "metadata": {},
     "output_type": "execute_result"
    }
   ],
   "source": [
    "out_df.loc[['s130', 's061'],:]"
   ]
  },
  {
   "cell_type": "code",
   "execution_count": null,
   "metadata": {},
   "outputs": [],
   "source": []
  }
 ],
 "metadata": {
  "kernelspec": {
   "display_name": "Python 3",
   "language": "python",
   "name": "python3"
  },
  "language_info": {
   "codemirror_mode": {
    "name": "ipython",
    "version": 3
   },
   "file_extension": ".py",
   "mimetype": "text/x-python",
   "name": "python",
   "nbconvert_exporter": "python",
   "pygments_lexer": "ipython3",
   "version": "3.7.3"
  }
 },
 "nbformat": 4,
 "nbformat_minor": 4
}
