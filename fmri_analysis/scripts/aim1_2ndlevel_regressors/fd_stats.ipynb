{
 "cells": [
  {
   "cell_type": "markdown",
   "metadata": {},
   "source": [
    "to gather fd_stats from qc reports"
   ]
  },
  {
   "cell_type": "code",
   "execution_count": 1,
   "metadata": {},
   "outputs": [],
   "source": [
    "import json\n",
    "import csv \n",
    "import os\n",
    "from glob import glob\n",
    "import pandas as pd\n",
    "import numpy as np\n",
    "from collections import defaultdict\n",
    "import matplotlib.pyplot as plt"
   ]
  },
  {
   "cell_type": "code",
   "execution_count": 3,
   "metadata": {},
   "outputs": [],
   "source": [
    "DATA_DIR = '/data'\n",
    "\n",
    "#change for different thresholds \n",
    "\n",
    "FD_MEAN_THRESH = .2 \n",
    "FC_PERC_THRESH = 30"
   ]
  },
  {
   "cell_type": "code",
   "execution_count": 4,
   "metadata": {},
   "outputs": [],
   "source": [
    "qc_reports = list(glob(os.path.join(DATA_DIR, 'derivatives', 'mriqc', 'derivatives', '*_bold.json')))\n",
    "qc_reports = sorted(qc_reports)"
   ]
  },
  {
   "cell_type": "code",
   "execution_count": 7,
   "metadata": {},
   "outputs": [],
   "source": [
    "fd_dict = defaultdict(dict, {})\n",
    "\n",
    "for file in qc_reports:\n",
    "    file_name = os.path.basename(file)\n",
    "    f2 = file_name.split('_')\n",
    "    sub_num = f2[0]\n",
    "    task = f2[2].split('-')[1] #shifted from f2[1] because of session ID\n",
    "    with open(file) as f:\n",
    "        temp_data = json.load(f)\n",
    "        temp_mean = temp_data.get('fd_mean')\n",
    "        temp_num = temp_data.get('fd_num')\n",
    "        temp_perc = temp_data.get('fd_perc')\n",
    "        #print(sub_num)\n",
    "        fd_dict[sub_num][task] = {'fd_mean': temp_mean, 'fd_num': temp_num, 'fd_perc': temp_perc}     "
   ]
  },
  {
   "cell_type": "code",
   "execution_count": 8,
   "metadata": {},
   "outputs": [
    {
     "data": {
      "text/html": [
       "<div>\n",
       "<style scoped>\n",
       "    .dataframe tbody tr th:only-of-type {\n",
       "        vertical-align: middle;\n",
       "    }\n",
       "\n",
       "    .dataframe tbody tr th {\n",
       "        vertical-align: top;\n",
       "    }\n",
       "\n",
       "    .dataframe thead th {\n",
       "        text-align: right;\n",
       "    }\n",
       "</style>\n",
       "<table border=\"1\" class=\"dataframe\">\n",
       "  <thead>\n",
       "    <tr style=\"text-align: right;\">\n",
       "      <th></th>\n",
       "      <th></th>\n",
       "      <th>fd_mean</th>\n",
       "      <th>fd_num</th>\n",
       "      <th>fd_perc</th>\n",
       "    </tr>\n",
       "  </thead>\n",
       "  <tbody>\n",
       "    <tr>\n",
       "      <th rowspan=\"5\" valign=\"top\">sub-s061</th>\n",
       "      <th>CCTHot</th>\n",
       "      <td>0.137224</td>\n",
       "      <td>135</td>\n",
       "      <td>15.715949</td>\n",
       "    </tr>\n",
       "    <tr>\n",
       "      <th>WATT3</th>\n",
       "      <td>0.151611</td>\n",
       "      <td>137</td>\n",
       "      <td>17.430025</td>\n",
       "    </tr>\n",
       "    <tr>\n",
       "      <th>stopSignal</th>\n",
       "      <td>0.125783</td>\n",
       "      <td>44</td>\n",
       "      <td>8.396947</td>\n",
       "    </tr>\n",
       "    <tr>\n",
       "      <th>twoByTwo</th>\n",
       "      <td>0.124104</td>\n",
       "      <td>73</td>\n",
       "      <td>7.087379</td>\n",
       "    </tr>\n",
       "    <tr>\n",
       "      <th>DPX</th>\n",
       "      <td>0.108978</td>\n",
       "      <td>58</td>\n",
       "      <td>5.301645</td>\n",
       "    </tr>\n",
       "    <tr>\n",
       "      <th>...</th>\n",
       "      <th>...</th>\n",
       "      <td>...</td>\n",
       "      <td>...</td>\n",
       "      <td>...</td>\n",
       "    </tr>\n",
       "    <tr>\n",
       "      <th rowspan=\"5\" valign=\"top\">sub-s650</th>\n",
       "      <th>rest</th>\n",
       "      <td>0.253770</td>\n",
       "      <td>332</td>\n",
       "      <td>47.025496</td>\n",
       "    </tr>\n",
       "    <tr>\n",
       "      <th>stroop</th>\n",
       "      <td>0.231252</td>\n",
       "      <td>51</td>\n",
       "      <td>15.044248</td>\n",
       "    </tr>\n",
       "    <tr>\n",
       "      <th>surveyMedley</th>\n",
       "      <td>0.189059</td>\n",
       "      <td>209</td>\n",
       "      <td>34.775374</td>\n",
       "    </tr>\n",
       "    <tr>\n",
       "      <th>CCTHot</th>\n",
       "      <td>0.200641</td>\n",
       "      <td>432</td>\n",
       "      <td>40.563380</td>\n",
       "    </tr>\n",
       "    <tr>\n",
       "      <th>stopSignal</th>\n",
       "      <td>0.149828</td>\n",
       "      <td>96</td>\n",
       "      <td>18.640777</td>\n",
       "    </tr>\n",
       "  </tbody>\n",
       "</table>\n",
       "<p>1117 rows × 3 columns</p>\n",
       "</div>"
      ],
      "text/plain": [
       "                        fd_mean  fd_num    fd_perc\n",
       "sub-s061 CCTHot        0.137224     135  15.715949\n",
       "         WATT3         0.151611     137  17.430025\n",
       "         stopSignal    0.125783      44   8.396947\n",
       "         twoByTwo      0.124104      73   7.087379\n",
       "         DPX           0.108978      58   5.301645\n",
       "...                         ...     ...        ...\n",
       "sub-s650 rest          0.253770     332  47.025496\n",
       "         stroop        0.231252      51  15.044248\n",
       "         surveyMedley  0.189059     209  34.775374\n",
       "         CCTHot        0.200641     432  40.563380\n",
       "         stopSignal    0.149828      96  18.640777\n",
       "\n",
       "[1117 rows x 3 columns]"
      ]
     },
     "execution_count": 8,
     "metadata": {},
     "output_type": "execute_result"
    }
   ],
   "source": [
    "# solution: https://stackoverflow.com/questions/13575090/construct-pandas-dataframe-from-items-in-nested-dictionary/13581730\n",
    "fd_stats = pd.DataFrame.from_dict({(i,j): fd_dict[i][j] \n",
    "                           for i in fd_dict.keys()\n",
    "                           for j in fd_dict[i].keys()},\n",
    "                       orient='index' )\n",
    "\n",
    "pd.MultiIndex.from_frame(fd_stats)\n",
    "\n",
    "fd_stats"
   ]
  },
  {
   "cell_type": "code",
   "execution_count": 9,
   "metadata": {},
   "outputs": [
    {
     "data": {
      "image/png": "[encoded data removed]",
      "text/plain": [
       "<Figure size 432x288 with 1 Axes>"
      ]
     },
     "metadata": {
      "needs_background": "light"
     },
     "output_type": "display_data"
    }
   ],
   "source": [
    "plt.hist(fd_stats['fd_mean'].values, alpha=0.5)\n",
    "plt.show()"
   ]
  },
  {
   "cell_type": "code",
   "execution_count": 10,
   "metadata": {},
   "outputs": [
    {
     "data": {
      "text/plain": [
       "0.10574073430368408"
      ]
     },
     "execution_count": 10,
     "metadata": {},
     "output_type": "execute_result"
    }
   ],
   "source": [
    "\n",
    "\n",
    "\n",
    "fd_problem = (fd_stats.fd_mean > FD_MEAN_THRESH) | ( fd_stats.fd_perc > FC_PERC_THRESH)\n",
    "#print(fd_prob)\n",
    "\n",
    "# pd.set_option(\"display.max_rows\", -1)\n",
    "np.mean(fd_stats.fd_mean)\n",
    "\n",
    "#for sub in sublist:\n",
    "#    fd_stats['fd_mean'][sub]\n",
    "    "
   ]
  },
  {
   "cell_type": "code",
   "execution_count": 11,
   "metadata": {},
   "outputs": [],
   "source": [
    "#write to tsv \n",
    "\n",
    "fd_stats.to_csv('../aim1_fd_stats.tsv',sep='\\t')"
   ]
  },
  {
   "cell_type": "code",
   "execution_count": 12,
   "metadata": {},
   "outputs": [
    {
     "data": {
      "text/html": [
       "<div>\n",
       "<style scoped>\n",
       "    .dataframe tbody tr th:only-of-type {\n",
       "        vertical-align: middle;\n",
       "    }\n",
       "\n",
       "    .dataframe tbody tr th {\n",
       "        vertical-align: top;\n",
       "    }\n",
       "\n",
       "    .dataframe thead th {\n",
       "        text-align: right;\n",
       "    }\n",
       "</style>\n",
       "<table border=\"1\" class=\"dataframe\">\n",
       "  <thead>\n",
       "    <tr style=\"text-align: right;\">\n",
       "      <th></th>\n",
       "      <th></th>\n",
       "      <th>fd_mean</th>\n",
       "      <th>fd_num</th>\n",
       "      <th>fd_perc</th>\n",
       "    </tr>\n",
       "  </thead>\n",
       "  <tbody>\n",
       "    <tr>\n",
       "      <th rowspan=\"5\" valign=\"top\">sub-s061</th>\n",
       "      <th>CCTHot</th>\n",
       "      <td>0.137224</td>\n",
       "      <td>135</td>\n",
       "      <td>15.715949</td>\n",
       "    </tr>\n",
       "    <tr>\n",
       "      <th>WATT3</th>\n",
       "      <td>0.151611</td>\n",
       "      <td>137</td>\n",
       "      <td>17.430025</td>\n",
       "    </tr>\n",
       "    <tr>\n",
       "      <th>stopSignal</th>\n",
       "      <td>0.125783</td>\n",
       "      <td>44</td>\n",
       "      <td>8.396947</td>\n",
       "    </tr>\n",
       "    <tr>\n",
       "      <th>twoByTwo</th>\n",
       "      <td>0.124104</td>\n",
       "      <td>73</td>\n",
       "      <td>7.087379</td>\n",
       "    </tr>\n",
       "    <tr>\n",
       "      <th>DPX</th>\n",
       "      <td>0.108978</td>\n",
       "      <td>58</td>\n",
       "      <td>5.301645</td>\n",
       "    </tr>\n",
       "    <tr>\n",
       "      <th>...</th>\n",
       "      <th>...</th>\n",
       "      <td>...</td>\n",
       "      <td>...</td>\n",
       "      <td>...</td>\n",
       "    </tr>\n",
       "    <tr>\n",
       "      <th rowspan=\"5\" valign=\"top\">sub-s650</th>\n",
       "      <th>rest</th>\n",
       "      <td>0.253770</td>\n",
       "      <td>332</td>\n",
       "      <td>47.025496</td>\n",
       "    </tr>\n",
       "    <tr>\n",
       "      <th>stroop</th>\n",
       "      <td>0.231252</td>\n",
       "      <td>51</td>\n",
       "      <td>15.044248</td>\n",
       "    </tr>\n",
       "    <tr>\n",
       "      <th>surveyMedley</th>\n",
       "      <td>0.189059</td>\n",
       "      <td>209</td>\n",
       "      <td>34.775374</td>\n",
       "    </tr>\n",
       "    <tr>\n",
       "      <th>CCTHot</th>\n",
       "      <td>0.200641</td>\n",
       "      <td>432</td>\n",
       "      <td>40.563380</td>\n",
       "    </tr>\n",
       "    <tr>\n",
       "      <th>stopSignal</th>\n",
       "      <td>0.149828</td>\n",
       "      <td>96</td>\n",
       "      <td>18.640777</td>\n",
       "    </tr>\n",
       "  </tbody>\n",
       "</table>\n",
       "<p>1117 rows × 3 columns</p>\n",
       "</div>"
      ],
      "text/plain": [
       "                        fd_mean  fd_num    fd_perc\n",
       "sub-s061 CCTHot        0.137224     135  15.715949\n",
       "         WATT3         0.151611     137  17.430025\n",
       "         stopSignal    0.125783      44   8.396947\n",
       "         twoByTwo      0.124104      73   7.087379\n",
       "         DPX           0.108978      58   5.301645\n",
       "...                         ...     ...        ...\n",
       "sub-s650 rest          0.253770     332  47.025496\n",
       "         stroop        0.231252      51  15.044248\n",
       "         surveyMedley  0.189059     209  34.775374\n",
       "         CCTHot        0.200641     432  40.563380\n",
       "         stopSignal    0.149828      96  18.640777\n",
       "\n",
       "[1117 rows x 3 columns]"
      ]
     },
     "execution_count": 12,
     "metadata": {},
     "output_type": "execute_result"
    }
   ],
   "source": [
    "fd_stats"
   ]
  },
  {
   "cell_type": "code",
   "execution_count": 15,
   "metadata": {},
   "outputs": [],
   "source": [
    "bad_df = fd_stats[fd_problem]"
   ]
  },
  {
   "cell_type": "code",
   "execution_count": 24,
   "metadata": {},
   "outputs": [
    {
     "data": {
      "text/plain": [
       "Index(['sub-s234', 'sub-s471', 'sub-s499', 'sub-s512', 'sub-s567', 'sub-s568',\n",
       "       'sub-s573', 'sub-s581', 'sub-s582', 'sub-s586', 'sub-s588', 'sub-s598',\n",
       "       'sub-s602', 'sub-s603', 'sub-s605', 'sub-s613', 'sub-s615', 'sub-s623',\n",
       "       'sub-s624', 'sub-s627', 'sub-s629', 'sub-s631', 'sub-s633', 'sub-s635',\n",
       "       'sub-s636', 'sub-s638', 'sub-s639', 'sub-s644', 'sub-s649', 'sub-s650'],\n",
       "      dtype='object')"
      ]
     },
     "execution_count": 24,
     "metadata": {},
     "output_type": "execute_result"
    }
   ],
   "source": [
    "bad_df.index.unique(0)"
   ]
  },
  {
   "cell_type": "code",
   "execution_count": null,
   "metadata": {},
   "outputs": [],
   "source": []
  }
 ],
 "metadata": {
  "kernelspec": {
   "display_name": "Python 3",
   "language": "python",
   "name": "python3"
  },
  "language_info": {
   "codemirror_mode": {
    "name": "ipython",
    "version": 3
   },
   "file_extension": ".py",
   "mimetype": "text/x-python",
   "name": "python",
   "nbconvert_exporter": "python",
   "pygments_lexer": "ipython3",
   "version": "3.7.4"
  }
 },
 "nbformat": 4,
 "nbformat_minor": 4
}
