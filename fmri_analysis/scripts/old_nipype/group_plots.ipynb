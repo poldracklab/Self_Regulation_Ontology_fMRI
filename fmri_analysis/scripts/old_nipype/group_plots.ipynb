{
 "cells": [
  {
   "cell_type": "code",
   "execution_count": null,
   "metadata": {},
   "outputs": [],
   "source": [
    "import argparse\n",
    "from glob import glob\n",
    "import json\n",
    "from matplotlib import pyplot as plt\n",
    "from nilearn import datasets, image\n",
    "from nilearn import plotting\n",
    "from nilearn.image import iter_img\n",
    "from os import makedirs, path\n",
    "import pandas as pd\n",
    "import seaborn as sns\n",
    "import sys\n",
    "\n",
    "from utils.secondlevel_plot_utils import *"
   ]
  },
  {
   "cell_type": "code",
   "execution_count": null,
   "metadata": {},
   "outputs": [],
   "source": [
    "parser = argparse.ArgumentParser(description='fMRI Analysis Entrypoint Script.')\n",
    "parser.add_argument('-derivatives_dir')\n",
    "parser.add_argument('--tasks', nargs=\"+\")\n",
    "\n",
    "if '-derivatives_dir' in sys.argv or '-h' in sys.argv:\n",
    "    matplotlib.use(\"agg\")\n",
    "    args = parser.parse_args()\n",
    "else:\n",
    "    # if run as a notebook reduce the set of args\n",
    "    args = parser.parse_args([])\n",
    "    args.derivatives_dir='/data/derivatives'"
   ]
  },
  {
   "cell_type": "code",
   "execution_count": null,
   "metadata": {},
   "outputs": [],
   "source": [
    "derivatives_dir = args.derivatives_dir\n",
    "fmriprep_dir = path.join(derivatives_dir, 'fmriprep', 'fmriprep')\n",
    "first_level_dir = path.join(derivatives_dir, '1stlevel')\n",
    "second_level_dir = path.join(derivatives_dir,'2ndlevel')  \n",
    "tasks = ['ANT', 'CCTHot', 'discountFix',\n",
    "         'DPX', 'motorSelectiveStop',\n",
    "         'stopSignal', 'stroop', \n",
    "         'surveyMedley', 'twoByTwo', 'WATT3']\n",
    "if args.tasks:\n",
    "    tasks = args.tasks"
   ]
  },
  {
   "cell_type": "code",
   "execution_count": null,
   "metadata": {},
   "outputs": [],
   "source": [
    "for model in ['model-rt', 'model-nort']:\n",
    "    for task in tasks:\n",
    "        task_contrast_dirs = sorted(glob(path.join(second_level_dir, '*%s' % task, model, 'wf-contrast')))\n",
    "        for d in task_contrast_dirs:\n",
    "            save_loc = path.join(d, 'Plots')\n",
    "            plot_2ndlevel_maps(d, threshold=.95, plot_dir=save_loc, ext='png')"
   ]
  },
  {
   "cell_type": "raw",
   "metadata": {},
   "source": [
    "print('Plotting task contrasts...')\n",
    "for task in tasks:\n",
    "    for tfile in ['raw', 'correct']:\n",
    "        task_dir = path.join(data_dir, task)\n",
    "        subj_ids = json.load(open(path.join(task_dir,'subj_ids.json'),'r'))\n",
    "        tstat_files = sorted(glob(path.join(task_dir, '*%s*%s_tfile*' % (task, tfile))),\n",
    "                             key = lambda x: '-' in x)\n",
    "        group_fig, group_axes = plt.subplots(len(tstat_files), 1,\n",
    "                                         figsize=(14, 6*len(tstat_files)))\n",
    "        group_fig.suptitle('N = %s' % len(subj_ids), fontsize=30)\n",
    "        plt.subplots_adjust(top=.95)\n",
    "        for i, tfile in enumerate(tstat_files):\n",
    "            basename = path.basename(tfile)\n",
    "            title = basename[:(basename.find('raw')-1)]\n",
    "            plotting.plot_stat_map(tfile, threshold=2, \n",
    "                                   axes=group_axes[i],\n",
    "                                   title=title)\n",
    "        makedirs(path.join(output_dir,task), exist_ok=True)\n",
    "        group_fig.savefig(path.join(output_dir,task,'%s_%s_tfiles.png' % (task, tfile)))"
   ]
  }
 ],
 "metadata": {
  "kernelspec": {
   "display_name": "Python 3",
   "language": "python",
   "name": "python3"
  },
  "language_info": {
   "codemirror_mode": {
    "name": "ipython",
    "version": 3
   },
   "file_extension": ".py",
   "mimetype": "text/x-python",
   "name": "python",
   "nbconvert_exporter": "python",
   "pygments_lexer": "ipython3",
   "version": "3.6.5"
  }
 },
 "nbformat": 4,
 "nbformat_minor": 2
}
