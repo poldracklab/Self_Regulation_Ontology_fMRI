{
 "cells": [
  {
   "cell_type": "markdown",
   "metadata": {},
   "source": [
    "# Script for Updating group_RT for fmri glm\n",
    "\n",
    "## assumptions\n",
    "#### 1) only participants that will be modeled are in BIDS_scans\n",
    "\n",
    "#### 2) the BIDS_dir is locally accessible (either by having the behavioral data in BIDS format locally, or via mount). Could be run on sherlock with minor changes."
   ]
  },
  {
   "cell_type": "code",
   "execution_count": 1,
   "metadata": {},
   "outputs": [],
   "source": [
    "import numpy as np\n",
    "import pandas as pd\n",
    "from os import path\n",
    "from glob import glob\n",
    "import sys"
   ]
  },
  {
   "cell_type": "code",
   "execution_count": null,
   "metadata": {},
   "outputs": [],
   "source": [
    "aim = 'aim1'"
   ]
  },
  {
   "cell_type": "code",
   "execution_count": 15,
   "metadata": {},
   "outputs": [],
   "source": [
    "if aim == 1:\n",
    "    BIDS_mnt = '/Users/henrymj/Documents/SRO/tmp/OAK/data/uh2/aim1/BIDS_scans' #path to sherlock BIDS_scans, mounted to my local\n",
    "elif aim == 2:\n",
    "    BIDS_mnt = '/Users/henrymj/Documents/SRO/tmp/OAK/data/uh2/aim2/BIDS_scans' #path to sherlock BIDS_scans, mounted to my local"
   ]
  },
  {
   "cell_type": "code",
   "execution_count": 24,
   "metadata": {},
   "outputs": [],
   "source": [
    "events_files = []\n",
    "if aim == 1:\n",
    "    events_files = glob(path.join(BIDS_mnt, 'sub-s*', 'ses-*', 'func', '*events.tsv')) #grab all of the events files - AIM1\n",
    "elif aim == 2:\n",
    "    events_files = glob(path.join(BIDS_mnt, 'sub-*', 'func', '*events.tsv')) #grab all of the events files - AIM2\n",
    "\n",
    "events_files.sort()"
   ]
  },
  {
   "cell_type": "code",
   "execution_count": 25,
   "metadata": {},
   "outputs": [],
   "source": [
    "tasks = 'ANT CCTHot DPX discountFix manipulationTask motorSelectiveStop stopSignal stroop twoByTwo WATT3'.split(' ') #I'm too lazy to write the list"
   ]
  },
  {
   "cell_type": "code",
   "execution_count": 27,
   "metadata": {},
   "outputs": [],
   "source": [
    "def get_stop_RTs(long_df):\n",
    "    go_long = long_df[long_df.trial_type.isin(['noncrit_nosignal', 'noncrit_signal','crit_go', 'go'])]\n",
    "    go_groupRT = np.mean(go_long[go_long.junk != True].response_time)\n",
    "\n",
    "    stop_long = long_df[long_df.trial_type.isin(['crit_stop_failure', 'stop_failure'])]\n",
    "    failedStop_groupRT = np.mean(stop_long[stop_long.junk != True].response_time)\n",
    "    \n",
    "    return (go_groupRT, failedStop_groupRT)"
   ]
  },
  {
   "cell_type": "markdown",
   "metadata": {},
   "source": [
    "## part 1: get group_RTs"
   ]
  },
  {
   "cell_type": "code",
   "execution_count": 28,
   "metadata": {},
   "outputs": [
    {
     "data": {
      "text/plain": [
       "{'discountFix': 1.4916855420663926,\n",
       " 'manipulationTask': 0.7659885377942974,\n",
       " 'motorSelectiveStop': (0.6704018421928775, 0.6363366430260062),\n",
       " 'stopSignal': (0.7314645946342206, 0.6184035006909255)}"
      ]
     },
     "execution_count": 28,
     "metadata": {},
     "output_type": "execute_result"
    }
   ],
   "source": [
    "\n",
    "group_RTs = {}\n",
    "for task in tasks:\n",
    "    curr_events = [i for i in events_files if task in i]\n",
    "    curr_events.sort()\n",
    "    \n",
    "    long_df = None\n",
    "    for subj_file in curr_events:\n",
    "        tmp_df = pd.read_csv(subj_file, delimiter='\\t')\n",
    "        if long_df is None:\n",
    "            long_df = tmp_df\n",
    "        else:\n",
    "            long_df = long_df.append(tmp_df)\n",
    "    if long_df is not None: #skipping manipulation for aim1\n",
    "        if task in 'stopSignal motorSelectiveStop'.split(' '):\n",
    "            curr_goRT, curr_failedStopRT = get_stop_RTs(long_df)\n",
    "            group_RTs[task] = (curr_goRT, curr_failedStopRT) #add to dict\n",
    "        else:\n",
    "            curr_gRT = np.mean(long_df[long_df.junk==False].response_time)\n",
    "            group_RTs[task] = curr_gRT #add to dict\n",
    "            \n",
    "group_RTs"
   ]
  },
  {
   "cell_type": "markdown",
   "metadata": {},
   "source": [
    "## Part 2: insert group_RTs"
   ]
  },
  {
   "cell_type": "code",
   "execution_count": 29,
   "metadata": {},
   "outputs": [],
   "source": [
    "#part 2: use group_RTs\n",
    "for task in tasks:\n",
    "    print(task)\n",
    "    curr_events = [i for i in events_files if task in i]\n",
    "    curr_events.sort()\n",
    "    print('num events files: ' + str(len(curr_events )))\n",
    "    \n",
    "    for subj_file in curr_events:\n",
    "        tmp_df = pd.read_csv(subj_file, delimiter='\\t')\n",
    "        if task in 'stopSignal motorSelectiveStop'.split(' '):\n",
    "            tmp_df['group_RT'] = 0.0 #initialize column\n",
    "            #add go RTs\n",
    "            tmp_df['group_RT'] = tmp_df.apply(lambda x: group_RTs[task][0] if (x['trial_type'] in ['noncrit_nosignal', 'noncrit_signal','crit_go', 'go']) else x['group_RT'], axis=1)\n",
    "            #add stop_failure_RTs\n",
    "            tmp_df['group_RT'] = tmp_df.apply(lambda x: group_RTs[task][1] if (x['trial_type'] in ['crit_stop_failure', 'stop_failure']) else x['group_RT'], axis=1)\n",
    "        else:\n",
    "            tmp_df['group_RT'] = group_RTs[task] #insert group_RT\n",
    "            \n",
    "        tmp_df.to_csv(subj_file, sep='\\t', index=False) #save df w/ group_RT"
   ]
  },
  {
   "cell_type": "code",
   "execution_count": 9,
   "metadata": {},
   "outputs": [
    {
     "data": {
      "text/plain": [
       "{'ANT': 0.602774296874999,\n",
       " 'CCTHot': 1.605532885359399,\n",
       " 'DPX': 0.5214033843149996,\n",
       " 'discountFix': 1.4133896354779107,\n",
       " 'motorSelectiveStop': (0.6444886092989532, 0.6378897389738966),\n",
       " 'stopSignal': (0.6686504907306444, 0.5847133220910642),\n",
       " 'stroop': 0.6869499352611136,\n",
       " 'twoByTwo': 0.7453855379343609,\n",
       " 'WATT3': 1.0660380757555799}"
      ]
     },
     "execution_count": 9,
     "metadata": {},
     "output_type": "execute_result"
    }
   ],
   "source": [
    "group_RTs"
   ]
  }
 ],
 "metadata": {
  "kernelspec": {
   "display_name": "Python 3",
   "language": "python",
   "name": "python3"
  },
  "language_info": {
   "codemirror_mode": {
    "name": "ipython",
    "version": 3
   },
   "file_extension": ".py",
   "mimetype": "text/x-python",
   "name": "python",
   "nbconvert_exporter": "python",
   "pygments_lexer": "ipython3",
   "version": "3.7.3"
  }
 },
 "nbformat": 4,
 "nbformat_minor": 4
}
