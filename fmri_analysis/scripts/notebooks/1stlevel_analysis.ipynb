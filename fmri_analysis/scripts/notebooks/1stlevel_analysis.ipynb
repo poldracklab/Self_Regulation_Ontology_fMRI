{
 "cells": [
  {
   "cell_type": "markdown",
   "metadata": {},
   "source": [
    "### Imports"
   ]
  },
  {
   "cell_type": "code",
   "execution_count": null,
   "metadata": {},
   "outputs": [],
   "source": [
    "import argparse\n",
    "from inspect import currentframe, getframeinfo\n",
    "from glob import glob\n",
    "import numpy as np\n",
    "import os\n",
    "from os.path import join\n",
    "import pandas as pd\n",
    "from pathlib import Path\n",
    "import pickle\n",
    "import sys\n",
    "import nibabel as nib\n",
    "from nistats.first_level_model import FirstLevelModel\n",
    "import warnings\n",
    "from utils.plot_utils import plot_design\n",
    "from utils.firstlevel_utils import get_first_level_objs, make_first_level_obj, save_first_level_obj"
   ]
  },
  {
   "cell_type": "markdown",
   "metadata": {},
   "source": [
    "### Parse Arguments\n",
    "These are not needed for the jupyter notebook, but are used after conversion to a script for production\n",
    "\n",
    "- conversion command:\n",
    "  - jupyter nbconvert --to script --execute 1stlevel_analysis.ipynb"
   ]
  },
  {
   "cell_type": "code",
   "execution_count": null,
   "metadata": {},
   "outputs": [],
   "source": [
    "parser = argparse.ArgumentParser(description='First Level Entrypoint script')\n",
    "parser.add_argument('-data_dir', default='/data')\n",
    "parser.add_argument('-derivatives_dir', default=None)\n",
    "parser.add_argument('-fmriprep_dir', default=None)\n",
    "parser.add_argument('-working_dir', default=None)\n",
    "parser.add_argument('--subject_ids', nargs=\"+\")\n",
    "parser.add_argument('--tasks', nargs=\"+\", help=\"Choose from ANT, CCTHot, discountFix,                                     DPX, motorSelectiveStop, stopSignal,                                     stroop, surveyMedley, twoByTwo, WATT3\")\n",
    "parser.add_argument('--rt', action='store_true')\n",
    "parser.add_argument('--beta', action='store_true')\n",
    "parser.add_argument('--n_procs', default=16, type=int)\n",
    "parser.add_argument('--overwrite', action='store_true')\n",
    "parser.add_argument('--quiet', '-q', action='store_true')\n",
    "parser.add_argument('--design_matrix', '-dm', action='store_true')\n",
    "parser.add_argument('--a_comp_cor', action='store_true')\n",
    "\n",
    "if '-derivatives_dir' in sys.argv or '-h' in sys.argv:\n",
    "    args = parser.parse_args()\n",
    "else:\n",
    "    args = parser.parse_args([])\n",
    "    args.tasks = ['discountFix',  #aim 2 tasks\n",
    "                  'motorSelectiveStop']\n",
    "#     args.tasks = ['discountFix', 'manipulationTask', #aim 2 tasks\n",
    "#                   'motorSelectiveStop', 'stopSignal']\n",
    "    \n",
    "    # args.tasks = ['ANT', 'CCTHot', 'discountFix', 'DPX', #aim 1 tasks\n",
    "    #               'motorSelectiveStop', 'stopSignal', \n",
    "    #               'stroop', 'twoByTwo', 'WATT3']\n",
    "    \n",
    "   \n",
    "    #args.subject_ids = ['3010']\n",
    "    args.rt=True\n",
    "    args.a_comp_cor=True\n",
    "    args.n_procs=1\n",
    "    args.derivatives_dir = '/data/derivatives/'\n",
    "    args.data_dir = '/data'\n",
    "    args.fmriprep_dir = '/data/derivatives/fmriprep/'\n",
    "    args.design_matrix=False"
   ]
  },
  {
   "cell_type": "code",
   "execution_count": null,
   "metadata": {},
   "outputs": [],
   "source": [
    "if not args.quiet:\n",
    "    def verboseprint(*args, **kwargs):\n",
    "        print(*args, **kwargs)\n",
    "else:\n",
    "    verboseprint = lambda *a, **k: None # do-nothing function"
   ]
  },
  {
   "cell_type": "markdown",
   "metadata": {},
   "source": [
    "### Initial Setup\n",
    "\n",
    "Organize paths and set parameters based on arguments"
   ]
  },
  {
   "cell_type": "code",
   "execution_count": null,
   "metadata": {},
   "outputs": [],
   "source": [
    "# Set Paths\n",
    "derivatives_dir = args.derivatives_dir\n",
    "if args.fmriprep_dir is None:\n",
    "    fmriprep_dir = join(derivatives_dir, 'fmriprep', 'fmriprep')\n",
    "else:\n",
    "    fmriprep_dir = args.fmriprep_dir\n",
    "data_dir = args.data_dir\n",
    "first_level_dir = join(derivatives_dir,'1stlevel')\n",
    "if args.working_dir is None:\n",
    "    working_dir = join(derivatives_dir, '1stlevel_workingdir')\n",
    "else:\n",
    "    working_dir = join(args.working_dir, '1stlevel_workingdir')\n",
    "\n",
    "# set tasks\n",
    "if args.tasks is not None:\n",
    "    tasks = args.tasks\n",
    "else:\n",
    "    tasks = ['discountFix', 'manipulationTask', \n",
    "                  'motorSelectiveStop', 'stopSignal']\n",
    "    \n",
    "    # tasks = ['ANT', 'CCTHot', 'discountFix', 'DPX', \n",
    "    #               'motorSelectiveStop', 'stopSignal', \n",
    "    #               'stroop', 'twoByTwo', 'WATT3']\n",
    "    \n",
    "\n",
    "# list of subject identifiers\n",
    "if not args.subject_ids:\n",
    "    subjects = sorted([i.split(\"-\")[-1] for i in glob(os.path.join(args.data_dir, '*')) if 'sub-' in i])\n",
    "else:\n",
    "    subjects = args.subject_ids\n",
    "    \n",
    "# other arguments\n",
    "regress_rt = args.rt\n",
    "beta_series = args.beta\n",
    "n_procs = args.n_procs\n",
    "# TR of functional images\n",
    "TR = .68\n",
    "a_comp_cor=args.a_comp_cor"
   ]
  },
  {
   "cell_type": "code",
   "execution_count": null,
   "metadata": {},
   "outputs": [],
   "source": [
    "first_level_dir"
   ]
  },
  {
   "cell_type": "code",
   "execution_count": null,
   "metadata": {},
   "outputs": [],
   "source": [
    "verboseprint('*'*79)\n",
    "verboseprint('Tasks: %s\\n, Subjects: %s\\n, derivatives_dir: %s\\n, data_dir: %s' % \n",
    "     (tasks, subjects, derivatives_dir, data_dir))\n",
    "verboseprint('*'*79)"
   ]
  },
  {
   "cell_type": "markdown",
   "metadata": {},
   "source": [
    "# Set up Nodes"
   ]
  },
  {
   "cell_type": "markdown",
   "metadata": {},
   "source": [
    "### Run analysis\n",
    "\n",
    "gather the files for each task within each subject\n"
   ]
  },
  {
   "cell_type": "code",
   "execution_count": null,
   "metadata": {},
   "outputs": [],
   "source": [
    "to_run = []\n",
    "for subject_id in subjects:\n",
    "    for task in tasks:\n",
    "        verboseprint('Setting up %s, %s' % (subject_id, task))\n",
    "        files = get_first_level_objs(subject_id, task, first_level_dir, regress_rt=regress_rt)\n",
    "        if len(files) == 0 or args.overwrite:\n",
    "            with warnings.catch_warnings():\n",
    "                warnings.filterwarnings(\"ignore\",category=DeprecationWarning)\n",
    "                warnings.filterwarnings(\"ignore\",category=UserWarning)\n",
    "                subjinfo = make_first_level_obj(subject_id, task, fmriprep_dir, \n",
    "                                                data_dir, first_level_dir, TR, regress_rt=regress_rt, a_comp_cor=a_comp_cor)\n",
    "            if subjinfo is not None:\n",
    "                to_run.append(subjinfo)"
   ]
  },
  {
   "cell_type": "markdown",
   "metadata": {},
   "source": [
    "### Run model fit\n",
    "\n",
    "generate the glm and fit the timeseries data to it"
   ]
  },
  {
   "cell_type": "code",
   "execution_count": null,
   "metadata": {},
   "outputs": [],
   "source": [
    "for subjinfo in to_run:\n",
    "    verboseprint(subjinfo.ID)\n",
    "    verboseprint('** fitting model')\n",
    "    fmri_glm = FirstLevelModel(TR, \n",
    "                           subject_label = subjinfo.ID,\n",
    "                           mask=subjinfo.mask,\n",
    "                           noise_model='ar1',\n",
    "                           standardize=False, \n",
    "                           hrf_model='spm',\n",
    "                           drift_model='cosine',\n",
    "                           period_cut=80,\n",
    "                           n_jobs=1\n",
    "                          )\n",
    "    \n",
    "    if args.design_matrix:\n",
    "        verboseprint('** saving')\n",
    "        save_first_level_obj(subjinfo, first_level_dir, False)\n",
    "        subjinfo.export_design(first_level_dir)\n",
    "        subjinfo.export_events(first_level_dir)\n",
    "    else:\n",
    "        out = fmri_glm.fit(subjinfo.func, design_matrices=subjinfo.design)\n",
    "        subjinfo.fit_model = out\n",
    "\n",
    "        verboseprint('** saving')\n",
    "        save_first_level_obj(subjinfo, first_level_dir, True)\n",
    "        subjinfo.export_design(first_level_dir)\n",
    "        subjinfo.export_events(first_level_dir)\n"
   ]
  }
 ],
 "metadata": {
  "anaconda-cloud": {},
  "kernelspec": {
   "display_name": "Python 3",
   "language": "python",
   "name": "python3"
  },
  "language_info": {
   "codemirror_mode": {
    "name": "ipython",
    "version": 3
   },
   "file_extension": ".py",
   "mimetype": "text/x-python",
   "name": "python",
   "nbconvert_exporter": "python",
   "pygments_lexer": "ipython3",
   "version": "3.7.4"
  },
  "toc": {
   "colors": {
    "hover_highlight": "#DAA520",
    "running_highlight": "#FF0000",
    "selected_highlight": "#FFD700"
   },
   "moveMenuLeft": true,
   "nav_menu": {
    "height": "243px",
    "width": "252px"
   },
   "navigate_menu": true,
   "number_sections": true,
   "sideBar": true,
   "threshold": 4,
   "toc_cell": false,
   "toc_section_display": "block",
   "toc_window_display": false
  }
 },
 "nbformat": 4,
 "nbformat_minor": 4
}
